{
  "nbformat": 4,
  "nbformat_minor": 0,
  "metadata": {
    "colab": {
      "provenance": [],
      "authorship_tag": "ABX9TyP4pcPfWeefHSKzJDGnd91M",
      "include_colab_link": true
    },
    "kernelspec": {
      "name": "python3",
      "display_name": "Python 3"
    },
    "language_info": {
      "name": "python"
    }
  },
  "cells": [
    {
      "cell_type": "markdown",
      "metadata": {
        "id": "view-in-github",
        "colab_type": "text"
      },
      "source": [
        "<a href=\"https://colab.research.google.com/github/DeepCodeSec/ml1000-p1/blob/working_models/Project1_wine_classification.ipynb\" target=\"_parent\"><img src=\"https://colab.research.google.com/assets/colab-badge.svg\" alt=\"Open In Colab\"/></a>"
      ]
    },
    {
      "cell_type": "markdown",
      "source": [
        "# Working code for wine classification problem.\n",
        "\n",
        "**Dataset:**\n",
        "* wine quality data retrieved from https://archive.ics.uci.edu/ml/datasets/Wine+Quality\n",
        "\n",
        "* using the white wine csv only (had more observations than the red)\n",
        "\n",
        "\n",
        "**Problem:**\n",
        "* how do we test if the wine is high quality and should be priced accordingly?"
      ],
      "metadata": {
        "id": "U_IC-_xYZz94"
      }
    },
    {
      "cell_type": "markdown",
      "source": [],
      "metadata": {
        "id": "7JJ0XBlIazyW"
      }
    }
  ]
}